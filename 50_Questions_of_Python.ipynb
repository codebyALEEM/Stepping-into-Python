{
 "cells": [
  {
   "cell_type": "code",
   "execution_count": 1,
   "id": "ab6ebf5e",
   "metadata": {},
   "outputs": [
    {
     "data": {
      "text/plain": [
       "'The input() function is used to read input from the user as a string'"
      ]
     },
     "execution_count": 1,
     "metadata": {},
     "output_type": "execute_result"
    }
   ],
   "source": [
    "#Q1- What is the input() funcion in python used for?\n",
    "'The input() function is used to read input from the user as a string'"
   ]
  },
  {
   "cell_type": "code",
   "execution_count": 3,
   "id": "7cc2769b",
   "metadata": {},
   "outputs": [],
   "source": [
    "#Q2- How do you accept an integer as a input fron the user using input()?\n",
    "'By using int() function we can take input as an integer fron the user'\n",
    "num = int(input(\"enter number=\")) "
   ]
  },
  {
   "cell_type": "code",
   "execution_count": 4,
   "id": "83a3c1fd",
   "metadata": {},
   "outputs": [],
   "source": [
    "#Q3- How do you accept the float from the user?\n",
    "'Float function is used to take input as a floating number fron the user'\n",
    "num1 = float(input('Enter number='))"
   ]
  },
  {
   "cell_type": "code",
   "execution_count": 6,
   "id": "07725840",
   "metadata": {},
   "outputs": [
    {
     "name": "stdout",
     "output_type": "stream",
     "text": [
      "['there', 'was', 'an', 'old', 'man']\n"
     ]
    }
   ],
   "source": [
    "#Q4- How do you take multiple space_separated values as input?\n",
    "'split() function is used to split the string into a list of values'\n",
    "val = input('Enter values').split()\n",
    "print(val)"
   ]
  },
  {
   "cell_type": "code",
   "execution_count": 9,
   "id": "43ada835",
   "metadata": {},
   "outputs": [
    {
     "name": "stdout",
     "output_type": "stream",
     "text": [
      "Negative\n"
     ]
    }
   ],
   "source": [
    "#Q5- How do you check that the number entered by the user id positive negative or zero?\n",
    "'By using if-elif-else'\n",
    "num2 = int(input('enter number='))\n",
    "\n",
    "if num2 > 0:\n",
    "    print('Positive')\n",
    "elif num2 < 0:\n",
    "    print('Negative')\n",
    "else:\n",
    "    print('Zero')\n"
   ]
  },
  {
   "cell_type": "code",
   "execution_count": 12,
   "id": "d166703b",
   "metadata": {},
   "outputs": [
    {
     "name": "stdout",
     "output_type": "stream",
     "text": [
      "[515454545]\n"
     ]
    }
   ],
   "source": [
    "#Q6- How do you convert the user input to a list of integer?\n",
    "'By using split() function'\n",
    "l1 = [int(x) for x in input('Enter number').split()]\n",
    "print(l1)\n"
   ]
  },
  {
   "cell_type": "code",
   "execution_count": 13,
   "id": "d61ee017",
   "metadata": {},
   "outputs": [
    {
     "data": {
      "text/plain": [
       "'JOY JHON'"
      ]
     },
     "execution_count": 13,
     "metadata": {},
     "output_type": "execute_result"
    }
   ],
   "source": [
    "#Q7- How do you accept the string input and print it in uppercase?\n",
    "u1 = input('Enter full name=').upper()\n",
    "u1"
   ]
  },
  {
   "cell_type": "code",
   "execution_count": 17,
   "id": "2e92808b",
   "metadata": {},
   "outputs": [
    {
     "name": "stdout",
     "output_type": "stream",
     "text": [
      "jhon joy\n",
      "Number of vowels= 2\n"
     ]
    }
   ],
   "source": [
    "#Q8- Write a python program that takes a string as a input and print the number of vowels?\n",
    "user_input = input(\"Enter string=\")\n",
    "print(user_input)\n",
    "vowels = 'aeiouAEIOU'\n",
    "vowel_count = 0\n",
    "\n",
    "for char in user_input:\n",
    "    if char in vowels:\n",
    "        vowel_count += 1\n",
    "        \n",
    "print(\"Number of vowels=\",vowel_count)        "
   ]
  },
  {
   "cell_type": "code",
   "execution_count": null,
   "id": "00e52ecd",
   "metadata": {},
   "outputs": [
    {
     "name": "stdout",
     "output_type": "stream",
     "text": [
      "5\n",
      "Odd\n"
     ]
    }
   ],
   "source": [
    "#Q9- What a program that takes the integer as an input and checks that a number is even or odd?\n",
    "check = int(input(\"Enter number=\"))\n",
    "print(check)\n",
    "\n",
    "if check % 2 == 0:\n",
    "    print('Even')\n",
    "else:\n",
    "    print('Odd')    \n"
   ]
  },
  {
   "cell_type": "code",
   "execution_count": 23,
   "id": "cbac37c1",
   "metadata": {},
   "outputs": [
    {
     "name": "stdout",
     "output_type": "stream",
     "text": [
      "refer\n",
      "refer\n",
      "Palandrome\n"
     ]
    }
   ],
   "source": [
    "#Q10- How do you check if a string is a palandrome using input()?\n",
    "str = input('Enter string=')\n",
    "print(str)\n",
    "str1=str[::-1]\n",
    "print(str1)\n",
    "if str == str1:\n",
    "    print('Palandrome')\n",
    "else:\n",
    "    print(\"Not Palandrome\")\n",
    "\n"
   ]
  },
  {
   "cell_type": "code",
   "execution_count": 25,
   "id": "ea874382",
   "metadata": {},
   "outputs": [
    {
     "name": "stdout",
     "output_type": "stream",
     "text": [
      "5\n",
      "Square = 25\n"
     ]
    }
   ],
   "source": [
    "#Q11- Write a program that takes a number as input and print its square.\n",
    "num5 = int(input(\"Enter number=\"))\n",
    "print(num5)\n",
    "print('Square =',num5**2)\n"
   ]
  },
  {
   "cell_type": "code",
   "execution_count": 27,
   "id": "d2ebd52a",
   "metadata": {},
   "outputs": [
    {
     "name": "stdout",
     "output_type": "stream",
     "text": [
      "15\n",
      "15 is divisible by 3\n"
     ]
    }
   ],
   "source": [
    "#Q12- Write a program that takes a number as an input and print that the number is divisinle by 3.\n",
    "div1 = int(input('Enter number='))\n",
    "print(div1)\n",
    "if div1 % 3 == 0:\n",
    "    print(f'{div1} is divisible by 3')\n",
    "else:\n",
    "    print(f'{div1} is not divisible by 3')"
   ]
  },
  {
   "cell_type": "code",
   "execution_count": 29,
   "id": "1e6afe66",
   "metadata": {},
   "outputs": [
    {
     "name": "stdout",
     "output_type": "stream",
     "text": [
      "15\n",
      "15 Not divisible y both\n"
     ]
    }
   ],
   "source": [
    "#Q13- How would you check if a number is divisible by both 3 and 7?\n",
    "check1 = int(input('enter number='))\n",
    "print(check1)\n",
    "\n",
    "if check1 % 3 == 0 and check1 % 7 == 0:\n",
    "    print(f'{check1} is divisible by both')\n",
    "else:\n",
    "    print(f'{check1} Not divisible y both')"
   ]
  },
  {
   "cell_type": "code",
   "execution_count": 32,
   "id": "3f0e2f33",
   "metadata": {},
   "outputs": [
    {
     "data": {
      "text/plain": [
       "['python', 'programming', ' language']"
      ]
     },
     "execution_count": 32,
     "metadata": {},
     "output_type": "execute_result"
    }
   ],
   "source": [
    "#Q14- How do you accept a list of comma-separated values a input?\n",
    "str = input('Enter comma separated values').split(',')\n",
    "str"
   ]
  },
  {
   "cell_type": "code",
   "execution_count": 35,
   "id": "24e91f1a",
   "metadata": {},
   "outputs": [
    {
     "name": "stdout",
     "output_type": "stream",
     "text": [
      "Product of 25 and 5  is= 125\n"
     ]
    }
   ],
   "source": [
    "#Q15- Write a python program that takes two numbers as input and print their product.\n",
    "int1 = int(input('Enter first number='))\n",
    "int2 = int(input('Enter second number='))\n",
    "\n",
    "print(f'Product of {int1} and {int2}  is=',int1*int2)"
   ]
  },
  {
   "cell_type": "code",
   "execution_count": 41,
   "id": "ac97e5bf",
   "metadata": {},
   "outputs": [
    {
     "name": "stdout",
     "output_type": "stream",
     "text": [
      "3\n",
      "Prime number\n"
     ]
    }
   ],
   "source": [
    "#Q16- Write a program that  checks if the input number is a prime number.\n",
    "prm1 = int(input('Enter number='))\n",
    "print(prm1)\n",
    "if prm1 > 1:\n",
    "    for i in range(2,prm1):\n",
    "        if prm1 % i == 0:\n",
    "            print('Not a prime number')\n",
    "            break\n",
    "    else:\n",
    "        print('Prime number')\n",
    "            \n",
    "            \n",
    "else:\n",
    "    print('Not prime number')"
   ]
  },
  {
   "cell_type": "code",
   "execution_count": 47,
   "id": "1ff2d5b3",
   "metadata": {},
   "outputs": [
    {
     "data": {
      "text/plain": [
       "False"
      ]
     },
     "execution_count": 47,
     "metadata": {},
     "output_type": "execute_result"
    }
   ],
   "source": [
    "#Q17- How can you accept the boolen value from the user/\n",
    "bool1 = input('enter value=').lower() == 'true'\n",
    "bool1"
   ]
  },
  {
   "cell_type": "code",
   "execution_count": 54,
   "id": "0574d5e3",
   "metadata": {},
   "outputs": [
    {
     "name": "stdout",
     "output_type": "stream",
     "text": [
      "Top\n",
      "Reversed string: poT\n"
     ]
    }
   ],
   "source": [
    "#Q18- Write a program that accepts astring and prints the reverse of the string.\n",
    "str3 = input('Enter string:')\n",
    "print(str3)\n",
    "print('Reversed string:',str3[::-1])"
   ]
  },
  {
   "cell_type": "code",
   "execution_count": null,
   "id": "ac015a09",
   "metadata": {},
   "outputs": [
    {
     "name": "stdout",
     "output_type": "stream",
     "text": [
      "Hello, Joy.You are 18 years old!\n"
     ]
    }
   ],
   "source": [
    "#Q19- Write a program that asks for a user's name and age and print a message.\n",
    "name = input('Enter your name:').title()\n",
    "age = int(input('enter your age'))\n",
    "print(f'Hello, {name}.You are {age} years old!')"
   ]
  },
  {
   "cell_type": "code",
   "execution_count": 56,
   "id": "a3d44cbe",
   "metadata": {},
   "outputs": [
    {
     "name": "stdout",
     "output_type": "stream",
     "text": [
      "Factorial: 1\n",
      "Factorial: 2\n",
      "Factorial: 6\n",
      "Factorial: 24\n",
      "Factorial: 120\n"
     ]
    }
   ],
   "source": [
    "#Q20-Write a program to calculate the factorial of a number using input().\n",
    "a6 = int(input('Enter number='))\n",
    "factorial=1\n",
    "for i in range(1,a6+1):\n",
    "    factorial *= i\n",
    "    print('Factorial:',factorial)"
   ]
  },
  {
   "cell_type": "code",
   "execution_count": 58,
   "id": "86586823",
   "metadata": {},
   "outputs": [
    {
     "name": "stdout",
     "output_type": "stream",
     "text": [
      "Input can be empty\n"
     ]
    }
   ],
   "source": [
    "#Q21- How do you prevent  a user from entering an empty string?\n",
    "user_input1 = input('Enter something:').strip()\n",
    "if not user_input1:\n",
    "    print(\"Input can be empty\")\n",
    "else:\n",
    "    print(f\"Your Entered={user_input1}\")\n"
   ]
  },
  {
   "cell_type": "code",
   "execution_count": 63,
   "id": "95be6487",
   "metadata": {},
   "outputs": [
    {
     "name": "stdout",
     "output_type": "stream",
     "text": [
      "5 Not a perfect square\n"
     ]
    }
   ],
   "source": [
    "#Q22- Write a program to check if an entered number is a perfect square.\n",
    "import math\n",
    "var1 = int(input(\"Enter number=\"))\n",
    "if math.isqrt(var1) ** 2 == var1:\n",
    "    print(f'{var1} Perfect square')\n",
    "else:\n",
    "    print(f'{var1} Not a perfect square')"
   ]
  },
  {
   "cell_type": "code",
   "execution_count": 68,
   "id": "da41a7ff",
   "metadata": {},
   "outputs": [
    {
     "name": "stdout",
     "output_type": "stream",
     "text": [
      "2015 not a leap year\n"
     ]
    }
   ],
   "source": [
    "#Q23-Write a program that asks the user for a year and determine if its aleap year.\n",
    "year = int (input('Enter year:'))\n",
    "\n",
    "if (year % 4 ==0 and year % 100 != 0) or (year % 400 == 0):\n",
    "    print(f\"{year} leap year\")\n",
    "else:\n",
    "    print(f'{year} not a leap year')"
   ]
  },
  {
   "cell_type": "code",
   "execution_count": 72,
   "id": "fd8d8220",
   "metadata": {},
   "outputs": [
    {
     "data": {
      "text/plain": [
       "'python programming'"
      ]
     },
     "execution_count": 72,
     "metadata": {},
     "output_type": "execute_result"
    }
   ],
   "source": [
    "#Q24- How can you remove leading and trailing spaces from a string input?\n",
    "'By using strip()'\n",
    "input(\"Enter something:\").strip()\n"
   ]
  },
  {
   "cell_type": "code",
   "execution_count": 76,
   "id": "459e2837",
   "metadata": {},
   "outputs": [
    {
     "name": "stdout",
     "output_type": "stream",
     "text": [
      "Invalid input,Plz enter a valid integer\n"
     ]
    }
   ],
   "source": [
    "#Q25- How do you handle incorrect input when you expect an integer using input()?\n",
    "try:\n",
    "    user_in = int(input(\"Enter number=\"))\n",
    "except ValueError:\n",
    "    print(\"Invalid input,Plz enter a valid integer\")"
   ]
  },
  {
   "cell_type": "code",
   "execution_count": 80,
   "id": "a4ed8119",
   "metadata": {},
   "outputs": [
    {
     "name": "stdout",
     "output_type": "stream",
     "text": [
      "Occurrance of o in 'python programming' is 2\n"
     ]
    }
   ],
   "source": [
    "#Q26- Write a program that accepts a string and counts the occurence of a particular character.\n",
    "text = input(\"Enter a string:\")\n",
    "char = input(\"Enter a charcter to count:\")\n",
    "print(f\"Occurrance of {char} in '{text}' is {text.count(char)}\")"
   ]
  },
  {
   "cell_type": "code",
   "execution_count": 81,
   "id": "6702ab3c",
   "metadata": {},
   "outputs": [
    {
     "data": {
      "text/plain": [
       "'python '"
      ]
     },
     "execution_count": 81,
     "metadata": {},
     "output_type": "execute_result"
    }
   ],
   "source": [
    "#Q27- How would you convert user input to lowercase using input()?\n",
    "user_str = input('Enter string:').lower()\n",
    "user_str\n"
   ]
  },
  {
   "cell_type": "code",
   "execution_count": 85,
   "id": "9b40d1a4",
   "metadata": {},
   "outputs": [
    {
     "name": "stdout",
     "output_type": "stream",
     "text": [
      "It is a multiple of 10\n"
     ]
    }
   ],
   "source": [
    "#Q28- Write a program that accepts a number from a user and print whether it is amultiple of 10.\n",
    "User_num = int(input('Enter number='))\n",
    "if User_num % 10 == 0:\n",
    "    print('It is a multiple of 10')\n",
    "else:\n",
    "    print('It is not a multiple of 10')"
   ]
  },
  {
   "cell_type": "code",
   "execution_count": 89,
   "id": "c5282b41",
   "metadata": {},
   "outputs": [
    {
     "name": "stdout",
     "output_type": "stream",
     "text": [
      "Non alphabate\n"
     ]
    }
   ],
   "source": [
    "\n",
    "#Q29- How would you check if a string containns only alphabates using input()?\n",
    "user_str1 = input('Enter your input:')\n",
    "if user_str1.isalpha():\n",
    "    print('Only alphabates')\n",
    "else:\n",
    "    print('Non alphabate')"
   ]
  },
  {
   "cell_type": "code",
   "execution_count": 93,
   "id": "0c927c53",
   "metadata": {},
   "outputs": [
    {
     "name": "stdout",
     "output_type": "stream",
     "text": [
      "python programming language\n",
      "Number of words= 3\n"
     ]
    }
   ],
   "source": [
    "#Q30- Write a program to count the number of words in a sentence entered by the user.\n",
    "text1 = input(\"enter your sentence:\")\n",
    "print(text1)\n",
    "print('Number of words=',len(text1.split()))"
   ]
  },
  {
   "cell_type": "code",
   "execution_count": 94,
   "id": "a1b5fcb5",
   "metadata": {},
   "outputs": [
    {
     "name": "stdout",
     "output_type": "stream",
     "text": [
      "Entered date: 2025-12-12 00:00:00\n"
     ]
    }
   ],
   "source": [
    "#Q31 How would you accept a date input from the user in python?\n",
    "from datetime import datetime\n",
    "date_str = input(\"Enter a date 90 (YYYY-MM-DD):\")\n",
    "date = datetime.strptime(date_str,\"%Y-%m-%d\")\n",
    "print(\"Entered date:\",date)"
   ]
  },
  {
   "cell_type": "code",
   "execution_count": 99,
   "id": "c16baebc",
   "metadata": {},
   "outputs": [
    {
     "name": "stdout",
     "output_type": "stream",
     "text": [
      "Divisible by both\n"
     ]
    }
   ],
   "source": [
    "#Q32 Write a program that checks if the entered number is divisible by 3 and 5 both.\n",
    "num6 =int(input(\"enter number=\"))\n",
    "if num6 % 3 == 0 and num6 % 5 == 0:\n",
    "    print(\"Divisible by both\")\n",
    "else:\n",
    "    print('Not divisible by both')\n"
   ]
  },
  {
   "cell_type": "code",
   "execution_count": 3,
   "id": "2fbd4695",
   "metadata": {},
   "outputs": [
    {
     "name": "stdout",
     "output_type": "stream",
     "text": [
      "a= 25\n",
      "b= 26\n",
      "swapped values: a=26,b=25\n"
     ]
    }
   ],
   "source": [
    "#Q33- Write a program to swap the values of two variables using input()?\n",
    "a = input('Enter first value:')\n",
    "b = input('Enter second value:')\n",
    "print(\"a=\",a)\n",
    "print('b=',b)\n",
    "a,b=b,a\n",
    "print(f'swapped values: a={a},b={b}')"
   ]
  },
  {
   "cell_type": "code",
   "execution_count": 4,
   "id": "c0875ab5",
   "metadata": {},
   "outputs": [
    {
     "name": "stdout",
     "output_type": "stream",
     "text": [
      "pythonprogramming\n"
     ]
    }
   ],
   "source": [
    "#Q34- Write a program to take user input and print it without spaces between words.\n",
    "user_input2 = input(\"Enter  number=\")\n",
    "print(user_input2.replace(\" \",\"\"))"
   ]
  },
  {
   "cell_type": "code",
   "execution_count": 9,
   "id": "6861f34d",
   "metadata": {},
   "outputs": [
    {
     "name": "stdout",
     "output_type": "stream",
     "text": [
      "valid email\n"
     ]
    }
   ],
   "source": [
    "#Q35- How do you validation if an entered inputs is a valid email address?\n",
    "import re\n",
    "email = input('Enter email:')\n",
    "if re.match(r'[^@]+@[^@]+\\.[^@]+',email):\n",
    "    print(\"valid email\")\n",
    "else:\n",
    "    print('Invalid email')"
   ]
  },
  {
   "cell_type": "code",
   "execution_count": 12,
   "id": "c1bbb6a2",
   "metadata": {},
   "outputs": [
    {
     "name": "stdout",
     "output_type": "stream",
     "text": [
      "Cube of 2 is 8\n"
     ]
    }
   ],
   "source": [
    "#Q36- Write a programe that accepts a numbber and prints its cube.\n",
    "val5 = int(input('Enter number ='))\n",
    "print(f'Cube of {val5} is',val5**3)"
   ]
  },
  {
   "cell_type": "code",
   "execution_count": 13,
   "id": "99c4448b",
   "metadata": {},
   "outputs": [
    {
     "name": "stdout",
     "output_type": "stream",
     "text": [
      "Names: ['python', 'programming', 'language']\n"
     ]
    }
   ],
   "source": [
    "#Q37- Hoe would you accept and store multiple names fron the users?\n",
    "user_name1 = input('Enter names separeted by comma:').split(',')\n",
    "print('Names:',user_name1)"
   ]
  },
  {
   "cell_type": "code",
   "execution_count": 15,
   "id": "14c1f06b",
   "metadata": {},
   "outputs": [
    {
     "name": "stdout",
     "output_type": "stream",
     "text": [
      "Extracted numbers: ['1212']\n"
     ]
    }
   ],
   "source": [
    "#Q38- How would you extract numbers from the string entered by the user?\n",
    "import re\n",
    "user_nam = input(\"Enter a string\")\n",
    "numbers = re.findall(r\"\\d+\",user_nam)\n",
    "print(\"Extracted numbers:\",numbers)"
   ]
  },
  {
   "cell_type": "code",
   "execution_count": 17,
   "id": "55bd94e9",
   "metadata": {},
   "outputs": [
    {
     "name": "stdout",
     "output_type": "stream",
     "text": [
      "[25, 45, 25, 68]\n",
      "Maximum number: 68\n"
     ]
    }
   ],
   "source": [
    "#Q39- How do you find the maximum number from a list of integers entered by the users?\n",
    "numbers = list(map(int,input(\"Enter numbers seperated by spaces:\").split()))\n",
    "print(numbers)\n",
    "print(\"Maximum number:\",max(numbers))"
   ]
  },
  {
   "cell_type": "code",
   "execution_count": 20,
   "id": "71c2cb5b",
   "metadata": {},
   "outputs": [],
   "source": [
    "#Q40- How would you prompt the user for input until they enter a valid number?\n",
    "while True:\n",
    "    try:\n",
    "        num8 = int(input('Enter a valid number:'))\n",
    "        break\n",
    "    except ValueError:\n",
    "        print('Invalid input,please enter a number')\n",
    "        "
   ]
  },
  {
   "cell_type": "code",
   "execution_count": 28,
   "id": "f054bc23",
   "metadata": {},
   "outputs": [
    {
     "name": "stdout",
     "output_type": "stream",
     "text": [
      "Yes\n"
     ]
    }
   ],
   "source": [
    "#Q41- Write a program to check if the entered string has digits.\n",
    "str4 = input('Enter your input:')\n",
    "if any(char.isdigit() for char in str4):\n",
    "    print(\"Yes\")\n",
    "else:\n",
    "    print('No')"
   ]
  },
  {
   "cell_type": "code",
   "execution_count": 32,
   "id": "7096a720",
   "metadata": {},
   "outputs": [
    {
     "name": "stdout",
     "output_type": "stream",
     "text": [
      "No Whitespace\n"
     ]
    }
   ],
   "source": [
    "#Q42- Write a program to check if the entered string has only whitespace characters.\n",
    "us_name = input('Enter string:')\n",
    "if us_name and us_name.isspace():\n",
    "    print('Whitespace')\n",
    "else:\n",
    "    print('No Whitespace')\n",
    "    "
   ]
  },
  {
   "cell_type": "code",
   "execution_count": 40,
   "id": "efdbd338",
   "metadata": {},
   "outputs": [
    {
     "name": "stdout",
     "output_type": "stream",
     "text": [
      "python in 2025\n",
      "Sum of digits: 9\n"
     ]
    }
   ],
   "source": [
    "#Q43- write a program to find the sum of all digits in a string entered by the user.\n",
    "txt = input(\"Enter string;\")\n",
    "print(txt)\n",
    "digit_sum = sum(int(digit) for digit in txt if digit.isdigit())\n",
    "print('Sum of digits:',digit_sum)"
   ]
  },
  {
   "cell_type": "code",
   "execution_count": 41,
   "id": "f025bd95",
   "metadata": {},
   "outputs": [
    {
     "name": "stdout",
     "output_type": "stream",
     "text": [
      "Absolute number= 15211\n"
     ]
    }
   ],
   "source": [
    "#Q44- Write a program that accepts a number and prints its absolute value.\n",
    "num10 = int(input(\"Enter number=\"))\n",
    "print('Absolute number=',abs(num10))"
   ]
  },
  {
   "cell_type": "code",
   "execution_count": 46,
   "id": "881bd54c",
   "metadata": {},
   "outputs": [
    {
     "name": "stdout",
     "output_type": "stream",
     "text": [
      "Python\n",
      "Yes\n"
     ]
    }
   ],
   "source": [
    "#Q45- How would you check if a string entered by the user contains any uppercase letters?\n",
    "usr_in = input('Enter string:')\n",
    "print(usr_in)\n",
    "if any(char.isupper() for char in usr_in):\n",
    "    print('Yes')\n",
    "else:\n",
    "    print('No')\n"
   ]
  },
  {
   "cell_type": "code",
   "execution_count": 54,
   "id": "73cb2800",
   "metadata": {},
   "outputs": [
    {
     "name": "stdout",
     "output_type": "stream",
     "text": [
      "Temperature in Fahrenheit :77.0\n"
     ]
    }
   ],
   "source": [
    "#Q46- Write a program that convert Celsius to Fahrenheit.\n",
    "user_temp = float(input('Enter temprature in celsius'))\n",
    "fahrenheit = (user_temp*9/5)+32\n",
    "print(f\"Temperature in Fahrenheit :{fahrenheit}\")"
   ]
  },
  {
   "cell_type": "code",
   "execution_count": 53,
   "id": "087a28fd",
   "metadata": {},
   "outputs": [
    {
     "name": "stdout",
     "output_type": "stream",
     "text": [
      "Average: 58.666666666666664\n"
     ]
    }
   ],
   "source": [
    "#Q47- Write a program to find the average of a list of numbers entered by the user. \n",
    "\n",
    "numbers = list(map(int, input(\"Enter numbers separated by space: \").split())) \n",
    "print(\"Average:\", sum(numbers) / len(numbers)) "
   ]
  },
  {
   "cell_type": "code",
   "execution_count": 52,
   "id": "5efa6651",
   "metadata": {},
   "outputs": [
    {
     "name": "stdout",
     "output_type": "stream",
     "text": [
      "python\n",
      "Number of consonants: 5\n"
     ]
    }
   ],
   "source": [
    "#Q48- write a programe to count the number of consonants in astring entered by the user.\n",
    "user_1 = input(\"Enter string:\")\n",
    "print(user_1)\n",
    "consonante = 'bcdfghjklmnpqrstvwxyz'\n",
    "count = sum(1 for char in user_1.lower() if char in consonante)\n",
    "print('Number of consonants:',count)"
   ]
  },
  {
   "cell_type": "code",
   "execution_count": 50,
   "id": "5622f021",
   "metadata": {},
   "outputs": [
    {
     "name": "stdout",
     "output_type": "stream",
     "text": [
      "Python!\n",
      "Yes\n"
     ]
    }
   ],
   "source": [
    "#Q49- How do you check if a string entered by the user contains any punction ?\n",
    "import string\n",
    "usr_sen1 = input('Enter string;')\n",
    "print(usr_sen1)\n",
    "if any(char in string.punctuation for char in usr_sen1):\n",
    "    print(\"Yes\")\n",
    "else:\n",
    "    print('No')"
   ]
  },
  {
   "cell_type": "code",
   "execution_count": 47,
   "id": "0c2d4364",
   "metadata": {},
   "outputs": [
    {
     "name": "stdout",
     "output_type": "stream",
     "text": [
      "Longest word: programming\n"
     ]
    }
   ],
   "source": [
    "#Q50- Write a program that accepts a sentence and prints the longest word.\n",
    "user_sen = input('Enter sentence:')\n",
    "words = user_sen.split()\n",
    "longest_word = max(words,key=len)\n",
    "print('Longest word:',longest_word)"
   ]
  }
 ],
 "metadata": {
  "kernelspec": {
   "display_name": "Python 3",
   "language": "python",
   "name": "python3"
  },
  "language_info": {
   "codemirror_mode": {
    "name": "ipython",
    "version": 3
   },
   "file_extension": ".py",
   "mimetype": "text/x-python",
   "name": "python",
   "nbconvert_exporter": "python",
   "pygments_lexer": "ipython3",
   "version": "3.13.7"
  }
 },
 "nbformat": 4,
 "nbformat_minor": 5
}
